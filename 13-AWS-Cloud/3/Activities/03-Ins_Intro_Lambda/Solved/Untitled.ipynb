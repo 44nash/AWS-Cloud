{
 "cells": [
  {
   "cell_type": "code",
   "execution_count": 2,
   "id": "4624decc-6a55-4627-9e44-693903304e9a",
   "metadata": {},
   "outputs": [],
   "source": [
    "import urllib3\n",
    "import json\n"
   ]
  },
  {
   "cell_type": "code",
   "execution_count": 9,
   "id": "2c748c75-f746-4764-8920-c049df13aa30",
   "metadata": {},
   "outputs": [],
   "source": [
    "bitcoin_api_url = \"https://api.alternative.me/v2/ticker/bitcoin/?convert=USD\"\n",
    "# JW updated:\n",
    "http = urllib3.PoolManager()\n",
    "response = http.request('GET', bitcoin_api_url)\n",
    "response_json = json.loads(response.data)\n",
    "price_usd = response_json[\"data\"][\"1\"][\"quotes\"][\"USD\"][\"price\"]"
   ]
  },
  {
   "cell_type": "code",
   "execution_count": 10,
   "id": "c1bd0e0f-d272-455e-880f-c2b19c74038e",
   "metadata": {},
   "outputs": [
    {
     "data": {
      "text/plain": [
       "40099.0"
      ]
     },
     "execution_count": 10,
     "metadata": {},
     "output_type": "execute_result"
    }
   ],
   "source": [
    "price_usd"
   ]
  },
  {
   "cell_type": "code",
   "execution_count": 5,
   "id": "3003e05b-9b6b-470b-b3a7-f11e069aee7f",
   "metadata": {},
   "outputs": [
    {
     "data": {
      "text/plain": [
       "b'{\\n\\t\"data\": {\\n\\t\\t\"1\": {\\n\\t\\t\\t\"id\": 1,\\n\\t\\t\\t\"name\": \"Bitcoin\",\\n\\t\\t\\t\"symbol\": \"BTC\",\\n\\t\\t\\t\"website_slug\": \"bitcoin\",\\n\\t\\t\\t\"rank\": 1,\\n\\t\\t\\t\"circulating_supply\": 18735675,\\n\\t\\t\\t\"total_supply\": 18735675,\\n\\t\\t\\t\"max_supply\": 21000000,\\n\\t\\t\\t\"quotes\": {\\n\\t\\t\\t\\t\"USD\": {\\n\\t\\t\\t\\t\\t\"price\": 40056.0000000000000000,\\n\\t\\t\\t\\t\\t\"volume_24h\": 37166356124,\\n\\t\\t\\t\\t\\t\"market_cap\": 750743109758,\\n\\t\\t\\t\\t\\t\"percentage_change_1h\": -0.2488219205634850,\\n\\t\\t\\t\\t\\t\"percentage_change_24h\": -1.7732216263614000,\\n\\t\\t\\t\\t\\t\"percentage_change_7d\": 19.7434564546395000,\\n\\t\\t\\t\\t\\t\"percent_change_1h\": -0.2488219205634850,\\n\\t\\t\\t\\t\\t\"percent_change_24h\": -1.7732216263614000,\\n\\t\\t\\t\\t\\t\"percent_change_7d\": 19.7434564546395000\\n\\t\\t\\t\\t}\\n\\t\\t\\t},\\n\\t\\t\\t\"last_updated\": 1623772490\\n\\t\\t}\\n\\t},\\n\\t\"metadata\": {\\n\\t\\t\"timestamp\": 1623772490,\\n\\t\\t\"num_cryptocurrencies\": 1290,\\n\\t\\t\"error\": null\\n\\t}\\n}'"
      ]
     },
     "execution_count": 5,
     "metadata": {},
     "output_type": "execute_result"
    }
   ],
   "source": [
    "response.data"
   ]
  },
  {
   "cell_type": "code",
   "execution_count": 6,
   "id": "cee89059-16dc-4e06-8aca-e2d7e40415c7",
   "metadata": {},
   "outputs": [],
   "source": [
    "response_json = json.loads(response.data)"
   ]
  },
  {
   "cell_type": "code",
   "execution_count": 7,
   "id": "8154d9a0-049c-4a0e-9165-8ae7e2efd7ae",
   "metadata": {},
   "outputs": [
    {
     "data": {
      "text/plain": [
       "{'data': {'1': {'id': 1,\n",
       "   'name': 'Bitcoin',\n",
       "   'symbol': 'BTC',\n",
       "   'website_slug': 'bitcoin',\n",
       "   'rank': 1,\n",
       "   'circulating_supply': 18735675,\n",
       "   'total_supply': 18735675,\n",
       "   'max_supply': 21000000,\n",
       "   'quotes': {'USD': {'price': 40056.0,\n",
       "     'volume_24h': 37166356124,\n",
       "     'market_cap': 750743109758,\n",
       "     'percentage_change_1h': -0.248821920563485,\n",
       "     'percentage_change_24h': -1.7732216263614,\n",
       "     'percentage_change_7d': 19.7434564546395,\n",
       "     'percent_change_1h': -0.248821920563485,\n",
       "     'percent_change_24h': -1.7732216263614,\n",
       "     'percent_change_7d': 19.7434564546395}},\n",
       "   'last_updated': 1623772490}},\n",
       " 'metadata': {'timestamp': 1623772490,\n",
       "  'num_cryptocurrencies': 1290,\n",
       "  'error': None}}"
      ]
     },
     "execution_count": 7,
     "metadata": {},
     "output_type": "execute_result"
    }
   ],
   "source": [
    "response_json"
   ]
  },
  {
   "cell_type": "code",
   "execution_count": null,
   "id": "72509dde-523b-4f11-b083-363dbc63da3f",
   "metadata": {},
   "outputs": [],
   "source": []
  }
 ],
 "metadata": {
  "kernelspec": {
   "display_name": "Python 3",
   "language": "python",
   "name": "python3"
  },
  "language_info": {
   "codemirror_mode": {
    "name": "ipython",
    "version": 3
   },
   "file_extension": ".py",
   "mimetype": "text/x-python",
   "name": "python",
   "nbconvert_exporter": "python",
   "pygments_lexer": "ipython3",
   "version": "3.9.4"
  }
 },
 "nbformat": 4,
 "nbformat_minor": 5
}
